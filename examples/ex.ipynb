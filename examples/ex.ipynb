{
 "cells": [
  {
   "cell_type": "code",
   "execution_count": 1,
   "id": "7cde43c2-50d3-47dd-a77b-80484f342f5a",
   "metadata": {},
   "outputs": [],
   "source": [
    "%load_ext autoreload\n",
    "%autoreload 2"
   ]
  },
  {
   "cell_type": "code",
   "execution_count": 2,
   "id": "f7567aef-b284-4214-a74c-716d50a9e079",
   "metadata": {},
   "outputs": [
    {
     "name": "stdout",
     "output_type": "stream",
     "text": [
      "Overwriting auto display for cadquery Workplane and Shape\n"
     ]
    }
   ],
   "source": [
    "from kadboxes import util\n",
    "# util.enable_viewer()"
   ]
  },
  {
   "cell_type": "code",
   "execution_count": 3,
   "id": "17c49be7-0913-4b15-a5ce-eb42f0a8ea93",
   "metadata": {},
   "outputs": [],
   "source": [
    "from kadboxes import *"
   ]
  },
  {
   "cell_type": "code",
   "execution_count": 4,
   "id": "2ded56e0-6920-44a7-8e9e-b23c27da5571",
   "metadata": {},
   "outputs": [
    {
     "name": "stdout",
     "output_type": "stream",
     "text": [
      "100% ⋮————————————————————————————————————————————————————————————⋮ (5/5)  0.09s\n"
     ]
    },
    {
     "data": {
      "application/vnd.jupyter.widget-view+json": {
       "model_id": "1651d442d40648b5b16dcd6676b11245",
       "version_major": 2,
       "version_minor": 0
      },
      "text/plain": [
       "CadViewerWidget(anchor=None, cad_width=800, glass=False, height=600, pinning=False, theme='light', title=None,…"
      ]
     },
     "metadata": {},
     "output_type": "display_data"
    },
    {
     "data": {
      "text/html": [
       "<div></div>"
      ],
      "text/plain": [
       "<IPython.core.display.HTML object>"
      ]
     },
     "metadata": {},
     "output_type": "display_data"
    }
   ],
   "source": [
    "pico_holder = mounting_box(53, 23, 5)\n",
    "relay_holder = mounting_box(44, 18, 5)\n",
    "pins = pin_stands(47, 11.4, 2, .8)\n",
    "\n",
    "pico = (\n",
    "    cq.Assembly(name=\"pico\")\n",
    "    .add(pico_holder, name=\"pico-holder\")\n",
    "    .add(pins, name=\"pico-pins\", color=cq.Color(\"orange\"))\n",
    ")\n",
    "\n",
    "boiler_base = (\n",
    "    cq.Assembly(name=\"case\")\n",
    "    .add(pico)\n",
    "    .add(relay_holder, name=\"relay\", color=cq.Color(\"red\"), loc=cq.Location(cq.Vector((53-44)/2,30,0)))\n",
    "    .add(transistor_holder(5), name=\"transistor\", color=cq.Color(\"blue\"), loc=cq.Location(cq.Vector(-25, 30, 0)))\n",
    "    .add(container(70, 70, 4), name=\"outer case\", loc=cq.Location(cq.Vector(0, 15, 0)))\n",
    ")   \n",
    "\n",
    "\n",
    "boiler_base"
   ]
  },
  {
   "cell_type": "code",
   "execution_count": 5,
   "id": "ae5ce29a-e8cd-4e33-abca-3db019e1615a",
   "metadata": {},
   "outputs": [
    {
     "data": {
      "text/plain": [
       "environ{'CONDA_EXE': '/opt/conda/bin/conda',\n",
       "        '_CE_M': '',\n",
       "        'THEME': 'light',\n",
       "        'HOSTNAME': 'b75606e15b70',\n",
       "        'PWD': '/home/cq',\n",
       "        'GSETTINGS_SCHEMA_DIR': '/opt/conda/envs/cq/share/glib-2.0/schemas',\n",
       "        'CONDA_PREFIX': '/opt/conda/envs/cq',\n",
       "        'GSETTINGS_SCHEMA_DIR_CONDA_BACKUP': '',\n",
       "        'HOME': '/home/cq',\n",
       "        'LANG': 'C.UTF-8',\n",
       "        'CONDA_PROMPT_MODIFIER': '(cq) ',\n",
       "        'PYTHONPATH': '/home/cq',\n",
       "        '_CE_CONDA': '',\n",
       "        'CONDA_SHLVL': '1',\n",
       "        'SHLVL': '1',\n",
       "        'CONDA_DIR': '/opt/conda',\n",
       "        'PROJ_DATA': '/opt/conda/envs/cq/share/proj',\n",
       "        'CONDA_PYTHON_EXE': '/opt/conda/bin/python',\n",
       "        'CONDA_DEFAULT_ENV': 'cq',\n",
       "        'LC_ALL': 'C.UTF-8',\n",
       "        'PATH': '/opt/conda/envs/cq/bin:/opt/conda/condabin:/opt/conda/bin:/usr/local/sbin:/usr/local/bin:/usr/sbin:/usr/bin:/sbin:/bin',\n",
       "        'PROJ_NETWORK': 'ON',\n",
       "        '_': '/opt/conda/envs/cq/bin/jupyter',\n",
       "        'JPY_SESSION_NAME': 'examples/72f39850-bd9b-4e07-bf97-d8bb3aacbe6f',\n",
       "        'JPY_PARENT_PID': '14',\n",
       "        'TERM': 'xterm-color',\n",
       "        'CLICOLOR': '1',\n",
       "        'FORCE_COLOR': '1',\n",
       "        'CLICOLOR_FORCE': '1',\n",
       "        'PAGER': 'cat',\n",
       "        'GIT_PAGER': 'cat',\n",
       "        'MPLBACKEND': 'module://matplotlib_inline.backend_inline'}"
      ]
     },
     "execution_count": 5,
     "metadata": {},
     "output_type": "execute_result"
    }
   ],
   "source": [
    "import os\n",
    "os.environ"
   ]
  },
  {
   "cell_type": "code",
   "execution_count": 9,
   "id": "f2e5f9c2-68de-4b0e-ac8c-a3c69eb58eb9",
   "metadata": {},
   "outputs": [
    {
     "ename": "ModuleNotFoundError",
     "evalue": "No module named 'kadboxes'",
     "output_type": "error",
     "traceback": [
      "\u001b[0;31m---------------------------------------------------------------------------\u001b[0m",
      "\u001b[0;31mModuleNotFoundError\u001b[0m                       Traceback (most recent call last)",
      "Cell \u001b[0;32mIn[9], line 1\u001b[0m\n\u001b[0;32m----> 1\u001b[0m \u001b[38;5;28;01mimport\u001b[39;00m \u001b[38;5;21;01mkadboxes\u001b[39;00m\n",
      "\u001b[0;31mModuleNotFoundError\u001b[0m: No module named 'kadboxes'"
     ]
    }
   ],
   "source": [
    "import kadboxes"
   ]
  },
  {
   "cell_type": "code",
   "execution_count": null,
   "id": "df54cd53-f1ac-4743-9979-a9718e540be4",
   "metadata": {},
   "outputs": [],
   "source": []
  }
 ],
 "metadata": {
  "kernelspec": {
   "display_name": "Python 3 (ipykernel)",
   "language": "python",
   "name": "python3"
  },
  "language_info": {
   "codemirror_mode": {
    "name": "ipython",
    "version": 3
   },
   "file_extension": ".py",
   "mimetype": "text/x-python",
   "name": "python",
   "nbconvert_exporter": "python",
   "pygments_lexer": "ipython3",
   "version": "3.10.8"
  }
 },
 "nbformat": 4,
 "nbformat_minor": 5
}
