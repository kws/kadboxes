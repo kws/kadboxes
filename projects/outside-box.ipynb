{
 "cells": [
  {
   "cell_type": "code",
   "execution_count": 1,
   "id": "0fffd66f-5202-452b-895c-937f65073aa0",
   "metadata": {},
   "outputs": [],
   "source": [
    "%load_ext autoreload\n",
    "%autoreload 2"
   ]
  },
  {
   "cell_type": "code",
   "execution_count": 2,
   "id": "3e20af5b-f2ce-458f-bd97-0408d2600f7a",
   "metadata": {},
   "outputs": [
    {
     "name": "stdout",
     "output_type": "stream",
     "text": [
      "Overwriting auto display for cadquery Workplane and Shape\n"
     ]
    }
   ],
   "source": [
    "from kadboxes import *\n",
    "from kadboxes.util import enable_viewer\n",
    "enable_viewer(\"Pico Outside ARGB\")"
   ]
  },
  {
   "cell_type": "code",
   "execution_count": 3,
   "id": "44bac80e-f557-4fce-87ea-4f4570982a91",
   "metadata": {},
   "outputs": [
    {
     "data": {
      "application/vnd.jupyter.widget-view+json": {
       "model_id": "17f8c3f70c6e4d519fcc9a5dd8297e0b",
       "version_major": 2,
       "version_minor": 0
      },
      "text/plain": [
       "CadViewerWidget(anchor=None, cad_width=800, glass=False, height=600, pinning=False, theme='light', title=None,…"
      ]
     },
     "metadata": {},
     "output_type": "display_data"
    },
    {
     "data": {
      "text/html": [
       "<div></div>"
      ],
      "text/plain": [
       "<IPython.core.display.HTML object>"
      ]
     },
     "metadata": {},
     "output_type": "display_data"
    }
   ],
   "source": [
    "outer_sizes = (80, 80)\n",
    "wall_thickness = 4\n",
    "\n",
    "box = container(*outer_sizes, 40, wall_thickness=wall_thickness, with_snap=False)\n",
    "\n",
    "pico_holder = mounting_box(51.5, 21.5, 8).union(pin_stands(47, 11.4, 3, .8, base_height=5))\n",
    "pico_holder = pico_holder.translate((0,20,0))\n",
    "\n",
    "power_holder = mounting_box(45.5, 23.5, 8)\n",
    "power_holder = power_holder.translate((0,-20,0))\n",
    "\n",
    "box = box.union(pico_holder).union(power_holder)\n",
    "\n",
    "\n",
    "box = box.faces(\"<Y\").workplane(centerOption=\"CenterOfMass\").center(0, 10).rect(outer_sizes[0]*0.75, 5).extrude(2.5)\n",
    "box = box.faces(\">Y\").workplane(centerOption=\"CenterOfMass\").center(0, 10).rect(outer_sizes[0]*0.75, 5).extrude(2.5)\n",
    "box = box.faces(\"<Y\").workplane().center((outer_sizes[0]/2) + (wall_thickness), -5).hole(3)\n",
    "\n",
    "# Bottom Holes - M12.07\n",
    "hole_offset = outer_sizes[1] * .25\n",
    "box = box.faces(\"<X\").workplane(centerOption=\"CenterOfMass\").center(hole_offset,-5).circle(12.5/2).cutBlind(-5)\n",
    "box = box.faces(\"<X\").workplane(centerOption=\"CenterOfMass\").center(hole_offset+1,-5).circle(15.5/2).cutBlind(-3)\n",
    "\n",
    "box = box.faces(\"<X\").workplane(centerOption=\"CenterOfMass\").center(-hole_offset,-5).circle(12.5/2).cutBlind(-5)\n",
    "box = box.faces(\"<X\").workplane(centerOption=\"CenterOfMass\").center(-hole_offset-1,-5).circle(15.5/2).cutBlind(-3)\n",
    "\n",
    "# Light Resistor\n",
    "box = box.faces(\">X\").workplane(centerOption=\"CenterOfMass\").center(outer_sizes[0]*0.4,-10).circle(6).extrude(3).faces(\">X\").rect(5.2, 2).cutBlind(-10)\n",
    "\n",
    "wedge = cq.Workplane(\"XZ\").moveTo(0, 0).lineTo(0, 10).lineTo(20, 3).lineTo(20,0).close().extrude(30)\n",
    "wedge = wedge.faces(\"<Z\").workplane(centerOption=\"CenterOfMass\", offset=-5).rect(25,15).cutBlind(-30)\n",
    "wedge = wedge.faces(\"<Z\").workplane(centerOption=\"CenterOfMass\").center(-2,0).hole(4)\n",
    "box = box.union(wedge.translate(((outer_sizes[0]/2)+wall_thickness,15,-4)))\n",
    "\n",
    "box"
   ]
  },
  {
   "cell_type": "code",
   "execution_count": 216,
   "id": "170226ea-fcc1-45d9-bb2e-1f85b5ddc23e",
   "metadata": {},
   "outputs": [],
   "source": [
    "cq.exporters.export(box, 'outside-box.stl')\n"
   ]
  },
  {
   "cell_type": "markdown",
   "id": "e80c2da4-cbc3-4322-863f-9d91e4a8e2f4",
   "metadata": {},
   "source": [
    "# LID BELOW"
   ]
  },
  {
   "cell_type": "code",
   "execution_count": 4,
   "id": "a70c0274-6bed-4d07-a98c-f7cfa523e25a",
   "metadata": {},
   "outputs": [
    {
     "data": {
      "application/vnd.jupyter.widget-view+json": {
       "model_id": "48f22853c2e14dfd9dcaf65d43f075b5",
       "version_major": 2,
       "version_minor": 0
      },
      "text/plain": [
       "CadViewerWidget(anchor=None, cad_width=800, glass=False, height=600, pinning=False, theme='light', title=None,…"
      ]
     },
     "metadata": {},
     "output_type": "display_data"
    },
    {
     "data": {
      "text/html": [
       "<div></div>"
      ],
      "text/plain": [
       "<IPython.core.display.HTML object>"
      ]
     },
     "metadata": {},
     "output_type": "display_data"
    }
   ],
   "source": [
    "lid_size = tuple([x + wall_thickness*2 + 1 for x in outer_sizes])\n",
    "lid_height = 20\n",
    "\n",
    "lid = container(*lid_size, lid_height, wall_thickness=wall_thickness, with_snap=False)\n",
    "\n",
    "lid = (\n",
    "    lid\n",
    "    .faces(\"<X\")\n",
    "    .workplane(centerOption=\"CenterOfMass\")\n",
    "    .center(0, 2)\n",
    "    .rect(lid_size[0], lid_height)\n",
    "    .cutBlind(-5)\n",
    ")\n",
    "\n",
    "lid = lid.faces(\"<Y\").workplane(centerOption=\"CenterOfMass\", offset=-1).center(-4, 4).rect(lid_size[0], 7).cutBlind(\"next\")\n",
    "lid = lid.faces(\">Y\").workplane(centerOption=\"CenterOfMass\", offset=-1).center(4, 4).rect(lid_size[0], 7).cutBlind(\"next\")\n",
    "\n",
    "cq.exporters.export(lid, 'outside-box-lid.stl')\n",
    "\n",
    "lid"
   ]
  },
  {
   "cell_type": "code",
   "execution_count": 5,
   "id": "34cb9d18-576b-41cf-9f65-da08b1b5046b",
   "metadata": {},
   "outputs": [
    {
     "name": "stdout",
     "output_type": "stream",
     "text": [
      "100% ⋮————————————————————————————————————————————————————————————⋮ (2/2)  0.02s\n"
     ]
    },
    {
     "data": {
      "application/vnd.jupyter.widget-view+json": {
       "model_id": "4658a55ff719412c9ae11241d608c509",
       "version_major": 2,
       "version_minor": 0
      },
      "text/plain": [
       "CadViewerWidget(anchor=None, cad_width=800, glass=False, height=600, pinning=False, theme='light', title=None,…"
      ]
     },
     "metadata": {},
     "output_type": "display_data"
    },
    {
     "data": {
      "text/html": [
       "<div></div>"
      ],
      "text/plain": [
       "<IPython.core.display.HTML object>"
      ]
     },
     "metadata": {},
     "output_type": "display_data"
    }
   ],
   "source": [
    "ass = (\n",
    "    cq.Assembly(name=\"box+lid\")\n",
    "    .add(box)\n",
    "    .add(lid.rotate(\n",
    "        (0, 0, 0), (1, 0, 0), 180\n",
    "    ), loc=cq.Location(cq.Vector(0, 0, 40)))\n",
    ")\n",
    "ass"
   ]
  },
  {
   "cell_type": "code",
   "execution_count": 133,
   "id": "32579064-bd99-4bf6-8f0a-66f2f041e414",
   "metadata": {},
   "outputs": [],
   "source": [
    "bb = cq.Workplane(\"YX\").workplane(offset=10).center(0,40).rect(100,30).extrude(-40)\n",
    "bb = bb.intersect(lid)\n",
    "cq.exporters.export(bb, 'outside-box-bb.stl')\n"
   ]
  },
  {
   "cell_type": "markdown",
   "id": "4c5751b9-6cdf-49b2-b7b3-de2b74e6397e",
   "metadata": {},
   "source": [
    "# Now for the light sensor \"nipple\""
   ]
  },
  {
   "cell_type": "code",
   "execution_count": 6,
   "id": "8df52565-30d2-41b2-b220-f80cc30bca2d",
   "metadata": {},
   "outputs": [
    {
     "name": "stdout",
     "output_type": "stream",
     "text": [
      "100% ⋮————————————————————————————————————————————————————————————⋮ (2/2)  0.01s\n"
     ]
    },
    {
     "data": {
      "application/vnd.jupyter.widget-view+json": {
       "model_id": "0d580aad3af241af92240e2a83f68c87",
       "version_major": 2,
       "version_minor": 0
      },
      "text/plain": [
       "CadViewerWidget(anchor=None, cad_width=800, glass=False, height=600, pinning=False, theme='light', title=None,…"
      ]
     },
     "metadata": {},
     "output_type": "display_data"
    },
    {
     "data": {
      "text/html": [
       "<div></div>"
      ],
      "text/plain": [
       "<IPython.core.display.HTML object>"
      ]
     },
     "metadata": {},
     "output_type": "display_data"
    }
   ],
   "source": [
    "nipple = cq.Workplane(\"YZ\").circle(6.5).extrude(8)\n",
    "nipple = (\n",
    "    nipple\n",
    "    .faces(\"<X\")\n",
    "    .circle(8.5)\n",
    "    .extrude(10)\n",
    "    .cut(nipple)\n",
    ")\n",
    "\n",
    "ass = (\n",
    "    cq.Assembly(name=\"box+nipple\")\n",
    "    .add(box)\n",
    "    .add(nipple,loc=cq.Location(cq.Vector(44, 32, 7.5)), color=cq.Color(\"red\"))\n",
    ")\n",
    "cq.exporters.export(nipple, 'outside-box-nipple.stl')\n",
    "ass"
   ]
  },
  {
   "cell_type": "code",
   "execution_count": null,
   "id": "be6e3be8-0764-4b9d-b416-76b2d48a3a98",
   "metadata": {},
   "outputs": [],
   "source": []
  }
 ],
 "metadata": {
  "kernelspec": {
   "display_name": "Python 3 (ipykernel)",
   "language": "python",
   "name": "python3"
  },
  "language_info": {
   "codemirror_mode": {
    "name": "ipython",
    "version": 3
   },
   "file_extension": ".py",
   "mimetype": "text/x-python",
   "name": "python",
   "nbconvert_exporter": "python",
   "pygments_lexer": "ipython3",
   "version": "3.10.8"
  }
 },
 "nbformat": 4,
 "nbformat_minor": 5
}
