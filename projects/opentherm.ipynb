{
 "cells": [
  {
   "cell_type": "code",
   "execution_count": 1,
   "id": "badea94b-642b-48fb-a8b5-8e3fa2ad0089",
   "metadata": {},
   "outputs": [],
   "source": [
    "%load_ext autoreload\n",
    "%autoreload 2"
   ]
  },
  {
   "cell_type": "code",
   "execution_count": 2,
   "id": "ac94963f-adab-40d6-a62c-4f1f60b75923",
   "metadata": {},
   "outputs": [
    {
     "name": "stdout",
     "output_type": "stream",
     "text": [
      "Overwriting auto display for cadquery Workplane and Shape\n"
     ]
    }
   ],
   "source": [
    "from kadboxes import *\n",
    "from kadboxes.util import enable_viewer"
   ]
  },
  {
   "cell_type": "code",
   "execution_count": 3,
   "id": "f3974a73-f0af-4b97-96e8-fe102116dd62",
   "metadata": {},
   "outputs": [
    {
     "name": "stdout",
     "output_type": "stream",
     "text": [
      "\n",
      "Enabling jupyter_cadquery replay\n"
     ]
    }
   ],
   "source": [
    "enable_viewer(\"OpenTherm Box\")"
   ]
  },
  {
   "cell_type": "code",
   "execution_count": 15,
   "id": "d01bbcd9-8f2b-4f53-9cd0-778b7d276f52",
   "metadata": {},
   "outputs": [],
   "source": [
    "pico_holder = mounting_box(100, 53, 10, frac=1.5)\n",
    "pico_pins = pin_stands(84.6, 40, 3, 1.25, base_height=2)\n",
    "\n",
    "holder = pico_holder.union(pico_pins).translate((0, 2.5, 0))\n",
    "holder"
   ]
  },
  {
   "cell_type": "code",
   "execution_count": 205,
   "id": "78b7be29-2c77-4478-bcf3-cd0d6c04b37a",
   "metadata": {},
   "outputs": [
    {
     "name": "stdout",
     "output_type": "stream",
     "text": [
      "100% ⋮————————————————————————————————————————————————————————————⋮ (5/5)  0.57s\n"
     ]
    }
   ],
   "source": [
    "# Outer box\n",
    "outer_sizes = (105, 58)\n",
    "outer_bottom_h = 22\n",
    "box = container(*outer_sizes, outer_bottom_h, wall_thickness=2)\n",
    "box\n",
    "\n",
    "# usb_dimensions = (15, 15)\n",
    "# usb_cutout = cq.Workplane(\"XZ\").box(*usb_dimensions, 6).translate((0,-outer_sizes[1]/2, 12))\n",
    "usb_dimensions = (13, 12)\n",
    "usb_cutout = cq.Workplane(\"XZ\").box(*usb_dimensions, 6).translate((7,-outer_sizes[1]/2, 10))\n",
    "\n",
    "cable_cutout = cq.Workplane(\"XZ\").circle(8).extrude(6).translate((-23, 2-outer_sizes[1]/2, 10))\n",
    "\n",
    "my_lid = (\n",
    "    lid(*outer_sizes, 10)\n",
    ").translate((0,0,outer_bottom_h))\n",
    "my_lid = my_lid.faces(\">Z\").workplane(3).center(0,10).text(\"OpenTherm\", 15, -4, cut=True, combine=False)\n",
    "my_lid = my_lid.faces(\">Z\").workplane(3).center(0,-15).text(\"by KajLights.com\", 8, -4, cut=True, combine=False)\n",
    "\n",
    "cq.Assembly(name=\"box+holder\") \\\n",
    "  .add(holder, name=\"holder\") \\\n",
    "  .add(box, name=\"box\", color=cq.Color(\"red\")) \\\n",
    "  .add(usb_cutout, name=\"usb\", color=cq.Color(\"blue\")) \\\n",
    "  .add(cable_cutout, name=\"cable\", color=cq.Color(\"blue\")) \\\n",
    "  .add(my_lid, name=\"lid\", color=cq.Color(\"green\")) \\\n",
    "  # .add(text_shape, name=\"text\", color=cq.Color(\"purple\")) \\\n",
    "\n"
   ]
  },
  {
   "cell_type": "code",
   "execution_count": 208,
   "id": "3b92807a-27cd-4748-945e-ad1674b005a7",
   "metadata": {},
   "outputs": [],
   "source": [
    "part_1  = holder.union(box).cut(usb_cutout).cut(cable_cutout)\n",
    "cq.exporters.export(part_1, 'opentherm-part-1.stl')\n",
    "part_1"
   ]
  },
  {
   "cell_type": "code",
   "execution_count": 209,
   "id": "a36f6226-68e2-4397-bade-78c2be420c5a",
   "metadata": {},
   "outputs": [],
   "source": [
    "cq.exporters.export(my_lid, 'opentherm-part-2.stl')\n",
    "my_lid"
   ]
  },
  {
   "cell_type": "code",
   "execution_count": 207,
   "id": "17845570-813b-46ea-82d6-8581904d4b16",
   "metadata": {},
   "outputs": [],
   "source": [
    "bb = cq.Workplane(\"XY\").center(0,-40).box(120,20,35)\n",
    "bb = part_1.intersect(bb)\n",
    "cq.exporters.export(bb, 'opentherm-cutout-test.stl')\n",
    "bb"
   ]
  },
  {
   "cell_type": "code",
   "execution_count": null,
   "id": "72ca3599-f8d5-4a38-a837-ad77c72dd219",
   "metadata": {},
   "outputs": [],
   "source": []
  }
 ],
 "metadata": {
  "kernelspec": {
   "display_name": "Python 3 (ipykernel)",
   "language": "python",
   "name": "python3"
  },
  "language_info": {
   "codemirror_mode": {
    "name": "ipython",
    "version": 3
   },
   "file_extension": ".py",
   "mimetype": "text/x-python",
   "name": "python",
   "nbconvert_exporter": "python",
   "pygments_lexer": "ipython3",
   "version": "3.10.8"
  }
 },
 "nbformat": 4,
 "nbformat_minor": 5
}
