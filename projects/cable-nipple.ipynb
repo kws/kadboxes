{
 "cells": [
  {
   "cell_type": "code",
   "execution_count": 1,
   "id": "122c82ff-24d2-4df7-a0ce-ce8e823bd3a5",
   "metadata": {},
   "outputs": [],
   "source": [
    "%load_ext autoreload\n",
    "%autoreload 2"
   ]
  },
  {
   "cell_type": "code",
   "execution_count": 2,
   "id": "1d9a6a52-4eca-4473-91ee-b033ce64c786",
   "metadata": {},
   "outputs": [
    {
     "name": "stdout",
     "output_type": "stream",
     "text": [
      "Overwriting auto display for cadquery Workplane and Shape\n"
     ]
    }
   ],
   "source": [
    "from kadboxes import *\n",
    "from kadboxes.util import enable_viewer"
   ]
  },
  {
   "cell_type": "code",
   "execution_count": 4,
   "id": "46bc5eaa-f436-4c41-849e-a47b0b4fb05a",
   "metadata": {},
   "outputs": [
    {
     "name": "stdout",
     "output_type": "stream",
     "text": [
      "\n",
      "Enabling jupyter_cadquery replay\n"
     ]
    }
   ],
   "source": [
    "enable_viewer(\"Cable Nipple\")"
   ]
  },
  {
   "cell_type": "code",
   "execution_count": 61,
   "id": "ded0f728-7b9e-4d00-b399-9b9141229a7f",
   "metadata": {},
   "outputs": [],
   "source": [
    "nipple = (\n",
    "    cq.Workplane(\"XY\")\n",
    "    .box(14, 25, 2)\n",
    "    .faces(\">Z\")\n",
    "    .circle(5)\n",
    "\n",
    "    .workplane(offset=10)\n",
    "    .circle(3)\n",
    "    .loft(combine=True)\n",
    ")\n",
    "nipple"
   ]
  },
  {
   "cell_type": "code",
   "execution_count": 62,
   "id": "f8ea93bb-303d-49b9-9fbd-c49244439b35",
   "metadata": {},
   "outputs": [],
   "source": [
    "core = (\n",
    "    cq.Workplane(\"XY\")\n",
    "    .workplane(offset=-1)\n",
    "    .circle(3)\n",
    "    \n",
    "    .workplane(offset=12)\n",
    "    .circle(1)\n",
    "    .loft(combine=True)\n",
    ")\n",
    "core"
   ]
  },
  {
   "cell_type": "code",
   "execution_count": 63,
   "id": "c997a94c-c214-4feb-b9bc-fc59e0a37253",
   "metadata": {},
   "outputs": [],
   "source": [
    "nipple = nipple.cut(core)\n",
    "nipple"
   ]
  },
  {
   "cell_type": "code",
   "execution_count": 64,
   "id": "6fee9f05-26c0-49ce-9540-b9e8a86dd5e7",
   "metadata": {},
   "outputs": [],
   "source": [
    "cq.exporters.export(nipple, 'cable-nipple.stl')\n"
   ]
  },
  {
   "cell_type": "raw",
   "id": "0ca3efab-c1a5-4f6a-8f7a-51d603caa47d",
   "metadata": {},
   "source": [
    "G28 ;Home\n",
    "G1 Z15.0 F6000 ;Move the platform down 15mm\n",
    ";Prime the extruder\n",
    "G92 E0\n",
    "G1 F200 E3\n",
    "G92 E0\n"
   ]
  },
  {
   "cell_type": "raw",
   "id": "c748a2e1-84f2-4bc1-910c-e235f7052995",
   "metadata": {},
   "source": [
    "\n",
    ";Start GCode begin\n",
    "\n",
    ";M104=print temp, M140 = bed temp, 109 = print temp wait, 190 = bed temp wait\n",
    "M140 S{material_bed_temperature_layer_0} ;Start heating bed\n",
    "M104 S{material_print_temperature_layer_0} ;Start heating extruder\n",
    "\n",
    "G28 ;Home\n",
    "G90 ;absolute positioning\n",
    "G1 X-10 Y-10 F3000\n",
    "G1 Z0 F1800\n",
    "\n",
    "M190 S{material_bed_temperature_layer_0} ;Wait for bed to reach temp before proceeding\n",
    "M109 S{material_print_temperature_layer_0} ;Wait for extruder to reach temp before proceeding\n",
    "\n",
    ";Prime the extruder\n",
    "G92 E0\n",
    "G1 E20 F200\n",
    "G92 E0\n",
    "\n",
    ";Start GCode end"
   ]
  },
  {
   "cell_type": "code",
   "execution_count": null,
   "id": "79009538-ea62-422a-9698-9693935308f3",
   "metadata": {},
   "outputs": [],
   "source": [
    "M104 S0\n",
    "M140 S0\n",
    ";Retract the filament\n",
    "G92 E1\n",
    "G1 E-1 F300\n",
    "G28 X0 Y0\n",
    "M84"
   ]
  }
 ],
 "metadata": {
  "kernelspec": {
   "display_name": "Python 3 (ipykernel)",
   "language": "python",
   "name": "python3"
  },
  "language_info": {
   "codemirror_mode": {
    "name": "ipython",
    "version": 3
   },
   "file_extension": ".py",
   "mimetype": "text/x-python",
   "name": "python",
   "nbconvert_exporter": "python",
   "pygments_lexer": "ipython3",
   "version": "3.10.8"
  }
 },
 "nbformat": 4,
 "nbformat_minor": 5
}
