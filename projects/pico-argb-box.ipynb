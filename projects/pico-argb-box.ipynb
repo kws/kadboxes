{
 "cells": [
  {
   "cell_type": "code",
   "execution_count": 1,
   "id": "ada5e3c2-d48a-4123-af6a-140c4c1f49f3",
   "metadata": {},
   "outputs": [],
   "source": [
    "%load_ext autoreload\n",
    "%autoreload 2"
   ]
  },
  {
   "cell_type": "code",
   "execution_count": 2,
   "id": "4cd7927e-71d2-4157-b082-34e9a2e79ce7",
   "metadata": {},
   "outputs": [
    {
     "name": "stdout",
     "output_type": "stream",
     "text": [
      "Overwriting auto display for cadquery Workplane and Shape\n"
     ]
    }
   ],
   "source": [
    "from kadboxes import *\n",
    "from kadboxes.util import enable_viewer\n",
    "# enable_viewer(\"Pico ARGB\")"
   ]
  },
  {
   "cell_type": "code",
   "execution_count": 42,
   "id": "5f3d694d-38b1-4d08-a562-49d788a79a72",
   "metadata": {},
   "outputs": [
    {
     "name": "stdout",
     "output_type": "stream",
     "text": [
      "100% ⋮————————————————————————————————————————————————————————————⋮ (2/2)  0.04s\n"
     ]
    },
    {
     "data": {
      "application/vnd.jupyter.widget-view+json": {
       "model_id": "294cee202f874094bb0bff2545551d95",
       "version_major": 2,
       "version_minor": 0
      },
      "text/plain": [
       "CadViewerWidget(anchor=None, cad_width=800, glass=False, height=600, pinning=False, theme='light', title=None,…"
      ]
     },
     "metadata": {},
     "output_type": "display_data"
    },
    {
     "data": {
      "text/html": [
       "<div></div>"
      ],
      "text/plain": [
       "<IPython.core.display.HTML object>"
      ]
     },
     "metadata": {},
     "output_type": "display_data"
    }
   ],
   "source": [
    "outer_sizes = (51.5, 21.5)\n",
    "\n",
    "# pico_holder = mounting_box(51.5, 21.5, 5)\n",
    "pins = pin_stands(47, 11.4, 2, .8)\n",
    "box = container(*outer_sizes, 12, wall_thickness=2)\n",
    "\n",
    "box = box.faces(\">X\").workplane().center(0, 0).rect(10, 7).cutBlind(\"next\")\n",
    "box = box.faces(\">X\").workplane(offset=-1).box(9.5, 6.5, 2)\n",
    "\n",
    "box = box.faces(\">Y\").workplane(centerOption=\"CenterOfBoundBox\").center(0, 2).rect(5, 3.5).cutBlind(\"next\")\n",
    "box = box.faces(\">Y\").workplane(offset=-1).box(4.5, 3, 2)\n",
    "\n",
    "box = (\n",
    "    cq.Assembly(name=\"case\")\n",
    "    .add(box, name=\"box\")\n",
    "    # .add(pico_holder, name=\"pico\", loc=cq.Location(cq.Vector(0, 0, 0)))\n",
    "    .add(pins, name=\"pins\", loc=cq.Location(cq.Vector(0, 0, 0)))\n",
    ")\n",
    "\n",
    "\n",
    "cq.exporters.export(box.toCompound(), 'pico-argb-box.stl')\n",
    "\n",
    "box"
   ]
  },
  {
   "cell_type": "code",
   "execution_count": 43,
   "id": "827f1031-18ec-45fc-9710-eb74dc5c9123",
   "metadata": {},
   "outputs": [
    {
     "data": {
      "application/vnd.jupyter.widget-view+json": {
       "model_id": "c6690afa5e3144668fc0bc301d50e7c0",
       "version_major": 2,
       "version_minor": 0
      },
      "text/plain": [
       "CadViewerWidget(anchor=None, cad_width=800, glass=False, height=600, pinning=False, theme='light', title=None,…"
      ]
     },
     "metadata": {},
     "output_type": "display_data"
    },
    {
     "data": {
      "text/html": [
       "<div></div>"
      ],
      "text/plain": [
       "<IPython.core.display.HTML object>"
      ]
     },
     "metadata": {},
     "output_type": "display_data"
    }
   ],
   "source": [
    "my_lid = (\n",
    "    lid(*outer_sizes, 5)\n",
    ")\n",
    "cq.exporters.export(my_lid, 'pico-argb-box-lid.stl')\n",
    "my_lid"
   ]
  },
  {
   "cell_type": "code",
   "execution_count": null,
   "id": "0ec47387-0c9f-456e-a541-b835a63dcfea",
   "metadata": {},
   "outputs": [],
   "source": []
  }
 ],
 "metadata": {
  "kernelspec": {
   "display_name": "Python 3 (ipykernel)",
   "language": "python",
   "name": "python3"
  },
  "language_info": {
   "codemirror_mode": {
    "name": "ipython",
    "version": 3
   },
   "file_extension": ".py",
   "mimetype": "text/x-python",
   "name": "python",
   "nbconvert_exporter": "python",
   "pygments_lexer": "ipython3",
   "version": "3.10.8"
  }
 },
 "nbformat": 4,
 "nbformat_minor": 5
}
