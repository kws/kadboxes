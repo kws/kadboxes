{
 "cells": [
  {
   "cell_type": "code",
   "execution_count": 1,
   "id": "badea94b-642b-48fb-a8b5-8e3fa2ad0089",
   "metadata": {},
   "outputs": [],
   "source": [
    "%load_ext autoreload\n",
    "%autoreload 2"
   ]
  },
  {
   "cell_type": "code",
   "execution_count": 2,
   "id": "ac94963f-adab-40d6-a62c-4f1f60b75923",
   "metadata": {},
   "outputs": [
    {
     "name": "stdout",
     "output_type": "stream",
     "text": [
      "Overwriting auto display for cadquery Workplane and Shape\n"
     ]
    }
   ],
   "source": [
    "from kadboxes import *\n",
    "from kadboxes.util import enable_viewer"
   ]
  },
  {
   "cell_type": "code",
   "execution_count": 3,
   "id": "f3974a73-f0af-4b97-96e8-fe102116dd62",
   "metadata": {},
   "outputs": [
    {
     "name": "stdout",
     "output_type": "stream",
     "text": [
      "\n",
      "Enabling jupyter_cadquery replay\n"
     ]
    }
   ],
   "source": [
    "enable_viewer(\"Pico Box\")"
   ]
  },
  {
   "cell_type": "code",
   "execution_count": 4,
   "id": "d01bbcd9-8f2b-4f53-9cd0-778b7d276f52",
   "metadata": {},
   "outputs": [
    {
     "name": "stdout",
     "output_type": "stream",
     "text": [
      "100% ⋮————————————————————————————————————————————————————————————⋮ (3/3)  0.09s\n"
     ]
    }
   ],
   "source": [
    "pico_holder = mounting_box(53, 23, 10, frac=1.5)\n",
    "pico_pins = pin_stands(47, 11.4, 2, .8, base_height=7)\n",
    "pico_supports = pin_stands(47, 11.4, 4, .8, base_height=5)\n",
    "\n",
    "pico_assembly = (\n",
    "    cq.Assembly(name=\"pico\")\n",
    "    .add(pico_holder, name=\"pico_holder\", color=cq.Color(\"red\"))\n",
    "    .add(pico_pins, name=\"pico_pins\", color=cq.Color(\"red\"))\n",
    "    .add(pico_supports, name=\"pico_supports\", color=cq.Color(\"red\"))\n",
    "\n",
    ")\n",
    "pico_assembly"
   ]
  },
  {
   "cell_type": "code",
   "execution_count": 5,
   "id": "70bee2cf-5340-46e9-9796-9a599755c509",
   "metadata": {},
   "outputs": [
    {
     "name": "stdout",
     "output_type": "stream",
     "text": [
      "100% ⋮————————————————————————————————————————————————————————————⋮ (2/2)  0.05s\n"
     ]
    }
   ],
   "source": [
    "pcb_holder = mounting_box(30, 70, 5)\n",
    "pcb_pins = pin_stands(25, 65, 2, .6)\n",
    "\n",
    "pcb_assembly = (\n",
    "    cq.Assembly(name=\"pcb\")\n",
    "    .add(pcb_holder, name=\"pcb_holder\")\n",
    "    .add(pcb_pins, name=\"pcb_pins\")\n",
    "\n",
    ")\n",
    "pcb_assembly"
   ]
  },
  {
   "cell_type": "code",
   "execution_count": 6,
   "id": "072f0e69-aca9-48e2-ad83-30bc443e06f6",
   "metadata": {},
   "outputs": [
    {
     "name": "stdout",
     "output_type": "stream",
     "text": [
      "100% ⋮————————————————————————————————————————————————————————————⋮ (6/6)  0.01s\n"
     ]
    }
   ],
   "source": [
    "relay_holder = mounting_box(44, 18, 5)\n",
    "\n",
    "\n",
    "combined_assembly = (\n",
    "    cq.Assembly(name=\"pico+pcb\")\n",
    "    .add(pcb_assembly, name=\"pcb_assembly\")\n",
    "    .add(pico_assembly, name=\"pico_assembly\", loc=cq.Location(cq.Vector(0, 23.5, 0)))\n",
    "    .add(relay_holder, name=\"relay_holder\", loc=cq.Location(cq.Vector(-4.5, 45, 0)), color=cq.Color(\"blue\"))\n",
    "\n",
    ")\n",
    "combined_assembly"
   ]
  },
  {
   "cell_type": "code",
   "execution_count": 7,
   "id": "caeb70cd-8401-40b6-889c-d2fee03cbfe2",
   "metadata": {},
   "outputs": [
    {
     "name": "stdout",
     "output_type": "stream",
     "text": [
      "100% ⋮————————————————————————————————————————————————————————————⋮ (9/9)  0.02s\n"
     ]
    }
   ],
   "source": [
    "final_assembly = (\n",
    "    cq.Assembly(name=\"final\")\n",
    "    .add(combined_assembly, name=\"combined_assembly\")\n",
    "    .add(cq.Workplane(\"XY\").workplane(offset=-1).box(30+2, 70+2, 2))\n",
    "    .add(cq.Workplane(\"XY\").workplane(offset=-1).box(53+2, 23+2, 2), loc=cq.Location(cq.Vector(0, 23.5, 0)), color=cq.Color(\"red\"))\n",
    "    .add(cq.Workplane(\"XY\").workplane(offset=-1).box(44+2, 18+2, 2), loc=cq.Location(cq.Vector(-4.5, 45, 0)), color=cq.Color(\"blue\"))\n",
    ")\n",
    "\n",
    "cq.exporters.export(final_assembly.toCompound(), 'final_assembly.stl')\n",
    "final_assembly"
   ]
  },
  {
   "cell_type": "code",
   "execution_count": null,
   "id": "78b7be29-2c77-4478-bcf3-cd0d6c04b37a",
   "metadata": {},
   "outputs": [],
   "source": []
  }
 ],
 "metadata": {
  "kernelspec": {
   "display_name": "Python 3 (ipykernel)",
   "language": "python",
   "name": "python3"
  },
  "language_info": {
   "codemirror_mode": {
    "name": "ipython",
    "version": 3
   },
   "file_extension": ".py",
   "mimetype": "text/x-python",
   "name": "python",
   "nbconvert_exporter": "python",
   "pygments_lexer": "ipython3",
   "version": "3.10.8"
  }
 },
 "nbformat": 4,
 "nbformat_minor": 5
}
