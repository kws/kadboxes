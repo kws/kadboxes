{
 "cells": [
  {
   "cell_type": "code",
   "execution_count": 213,
   "id": "ba5d55a2-a326-4361-9cb5-f4e77ca4d4cf",
   "metadata": {},
   "outputs": [
    {
     "name": "stdout",
     "output_type": "stream",
     "text": [
      "\n",
      "Enabling jupyter_cadquery replay\n"
     ]
    }
   ],
   "source": [
    "import cadquery as cq\n",
    "from jupyter_cadquery import (\n",
    "    PartGroup, Part, Edges, Faces, Vertices, show,\n",
    "    close_viewer, close_viewers, get_viewer, open_viewer, set_defaults, get_defaults\n",
    ")\n",
    "\n",
    "from jupyter_cadquery.replay import replay, enable_replay, disable_replay, reset_replay\n",
    "\n",
    "set_defaults(axes=True, timeit=False)\n",
    "\n",
    "cv = open_viewer(\"Examples\", cad_width=640, height=480, glass=True)\n",
    "\n",
    "enable_replay(False, False)\n",
    "show_object = replay"
   ]
  },
  {
   "cell_type": "code",
   "execution_count": 216,
   "id": "fb4f646e-7a5a-430f-aeb5-8d6c882e7332",
   "metadata": {},
   "outputs": [],
   "source": [
    "def mounting_box(l, w, h, wall_thickness=1, frac=2):\n",
    "    \"\"\"\n",
    "    Creates a mounting \"box\"    \n",
    "    \"\"\"\n",
    "    wall_thickness *= 2\n",
    "    oshell = (\n",
    "        cq.Workplane(\"XY\")\n",
    "        .workplane(offset=h/2)\n",
    "        .box(l+wall_thickness, w+wall_thickness, h)\n",
    "    )\n",
    "    ishell = (\n",
    "        cq.Workplane(\"XY\")\n",
    "        .workplane(offset=h/2)\n",
    "        .box(l, w, h)\n",
    "    )\n",
    "    box = oshell.cut(ishell)\n",
    "\n",
    "    if frac > 0:\n",
    "        box = box.faces(\"<Y\").workplane(centerOption=\"CenterOfMass\").rect(l/frac, h).cutThruAll()\n",
    "        box = box.faces(\"<X\").workplane(centerOption=\"CenterOfMass\").rect(w/frac, h).cutThruAll()\n",
    "    \n",
    "    return box\n",
    "\n",
    "def pin_stands(l, w, outer, inner, height=2):\n",
    "    thick_pins = (\n",
    "        cq.Workplane(\"XY\")\n",
    "        .rect(l, w, forConstruction=True)\n",
    "        .vertices()\n",
    "        .circle(outer)\n",
    "        .extrude(height)\n",
    "        .faces(\">Z\")\n",
    "        .workplane()\n",
    "        .rect(l, w, forConstruction=True)\n",
    "        .vertices()\n",
    "        .circle(inner)\n",
    "        .extrude(height)      \n",
    "    )\n",
    "    \n",
    "    return thick_pins\n",
    "    \n",
    "    \n",
    "def transistor_holder(diameter, height=2, padding=1):\n",
    "    radius = diameter / 2\n",
    "    holder = (\n",
    "        cq.Workplane(\"XY\")\n",
    "        .circle(radius + padding)\n",
    "        .extrude(height)\n",
    "        .faces(\"<Z\")\n",
    "        .circle(radius)\n",
    "        .cutThruAll()\n",
    "        \n",
    "    )\n",
    "    return holder\n",
    "\n",
    "\n",
    "def snap_join(l, w, radius=0.5):\n",
    "    snap_join = (\n",
    "        cq.Workplane(\"top\")\n",
    "        .circle(radius)\n",
    "        .extrude(w)\n",
    "        .copyWorkplane(\n",
    "            cq.Workplane(\"left\", origin=(0, 0, 0))\n",
    "        )\n",
    "        .circle(radius)\n",
    "        .extrude(l)\n",
    "        .copyWorkplane(\n",
    "            cq.Workplane(\"left\", origin=(0, w, 0))\n",
    "        )\n",
    "        .circle(radius)\n",
    "        .extrude(l)\n",
    "        .copyWorkplane(\n",
    "            cq.Workplane(\"top\", origin=(-l, 0, 0))\n",
    "        )\n",
    "        .circle(radius)\n",
    "        .extrude(w)\n",
    "    )\n",
    "    return snap_join\n",
    "        \n",
    "\n",
    "def container(base_length, base_width, height, wall_thickness=1, with_snap=True):\n",
    "    height = height + wall_thickness\n",
    "    sides = wall_thickness * 2\n",
    "    oshell = (\n",
    "        cq.Workplane(\"XY\")\n",
    "        .workplane(height/2 - wall_thickness)\n",
    "        .box(base_length+sides, base_width+sides, height)\n",
    "        .edges(\"|Z\").fillet(2)\n",
    "    )\n",
    "\n",
    "    ishell = (\n",
    "        oshell.faces(\"<Z\")\n",
    "        .workplane(invert=True, offset=wall_thickness)\n",
    "        .rect(base_length, base_width)\n",
    "        .extrude(height, False)\n",
    "    )\n",
    "    \n",
    "    container = oshell.cut(ishell)\n",
    "        \n",
    "    if with_snap:\n",
    "        snap_pos = height - wall_thickness -2\n",
    "        grove = (\n",
    "            snap_join(base_length, base_width)\n",
    "            .translate((base_length/2, -base_width/2, snap_pos))\n",
    "        )\n",
    "        container = container.cut(grove)\n",
    "    \n",
    "    \n",
    "\n",
    "    return container\n",
    "\n",
    "def lid(base_length, base_width, height, wall_thickness=2, with_snap=True):\n",
    "    ct = (\n",
    "        cq.Workplane(\"XY\")\n",
    "        .workplane(height/2 - wall_thickness)\n",
    "        .box(base_length+wall_thickness, base_width+wall_thickness, height)\n",
    "        .edges(\"|Z\").fillet(2)\n",
    "    )\n",
    "\n",
    "    fuzz = 0.75\n",
    "    \n",
    "    ct = (\n",
    "        ct.faces(\">Z\")\n",
    "        .rect(base_length-fuzz, base_width-fuzz)\n",
    "        .extrude(3)\n",
    "    )\n",
    "    \n",
    "    ct = (\n",
    "        ct.faces(\">Z\")\n",
    "        .rect(base_length-fuzz-wall_thickness, base_width-fuzz-wall_thickness)\n",
    "        .cutBlind(-height-2)\n",
    "    )\n",
    "    \n",
    "    \n",
    "    if with_snap:\n",
    "        snap_pos = height\n",
    "        grove = (\n",
    "            snap_join(base_length-fuzz, base_width-fuzz)\n",
    "            .translate(((base_length-fuzz)/2, -(base_width-fuzz)/2, snap_pos))\n",
    "        )\n",
    "        \n",
    "        cut_out = (\n",
    "            cq.Workplane(\"XY\")\n",
    "            .rect(base_length, base_width)\n",
    "            .vertices()\n",
    "            .box(base_length/2, base_width/2, 2)\n",
    "            .translate((0, 0, snap_pos))\n",
    "        )\n",
    "        grove = grove.cut(cut_out)\n",
    "        \n",
    "        ct = ct.union(grove)\n",
    "\n",
    "    \n",
    "    return ct\n"
   ]
  },
  {
   "cell_type": "code",
   "execution_count": 5,
   "id": "3d0ccf63-6520-47b4-9f42-3b115a552b0b",
   "metadata": {},
   "outputs": [
    {
     "name": "stdout",
     "output_type": "stream",
     "text": [
      "100% ⋮————————————————————————————————————————————————————————————⋮ (5/5)  0.13s\n"
     ]
    }
   ],
   "source": [
    "pico_holder = mounting_box(53, 23, 5)\n",
    "relay_holder = mounting_box(44, 18, 5)\n",
    "pins = pin_stands(47, 11.4, 2, .8)\n",
    "\n",
    "\n",
    "boiler_base = (\n",
    "    cq.Assembly(name=\"case\")\n",
    "    .add(pico_holder, name=\"pico\")\n",
    "    .add(pins, name=\"pico-pins\", color=cq.Color(\"orange\"))\n",
    "    .add(relay_holder, name=\"relay\", color=cq.Color(\"red\"), loc=cq.Location(cq.Vector((53-44)/2,30,0)))\n",
    "    .add(transistor_holder(5), name=\"transistor\", color=cq.Color(\"blue\"), loc=cq.Location(cq.Vector(-25, 30, 0)))\n",
    "    .add(container(70, 70, 4), loc=cq.Location(cq.Vector(0, 15, 0)))\n",
    ")   \n",
    "\n",
    "\n",
    "boiler_base"
   ]
  },
  {
   "cell_type": "code",
   "execution_count": 555,
   "id": "7bf1f6c0-35a5-4908-8ae1-d1dd92cd3099",
   "metadata": {},
   "outputs": [],
   "source": [
    "cq.exporters.export(boiler_base.toCompound(), 'boiler-base.stl')\n"
   ]
  },
  {
   "cell_type": "markdown",
   "id": "99e88f92-386f-4229-b9ed-ef6de2248df8",
   "metadata": {},
   "source": [
    "# Thermostats"
   ]
  },
  {
   "cell_type": "code",
   "execution_count": 556,
   "id": "3827795a-7020-44d2-a5bb-91285e0d17fa",
   "metadata": {},
   "outputs": [
    {
     "name": "stdout",
     "output_type": "stream",
     "text": [
      "100% ⋮————————————————————————————————————————————————————————————⋮ (4/4)  0.08s\n"
     ]
    }
   ],
   "source": [
    "pico_holder = mounting_box(53, 23, 5)\n",
    "sensor_holder = mounting_box(20, 16, 3)\n",
    "\n",
    "\n",
    "thermo_base = (\n",
    "    cq.Assembly(name=\"case\")\n",
    "    .add(pico_holder, name=\"pico\")\n",
    "    .add(pins, name=\"pico-pins\", color=cq.Color(\"orange\"))\n",
    "    .add(sensor_holder, name=\"relay\", color=cq.Color(\"red\"), loc=cq.Location(cq.Vector(50, 0, 0)))\n",
    "#     .add(transistor_holder(5), name=\"transistor\", color=cq.Color(\"blue\"), loc=cq.Location(cq.Vector(-25, 30, 0)))\n",
    "    .add(container(100, 35, 4), loc=cq.Location(cq.Vector(20, 0, 0)))\n",
    ")   \n",
    "\n",
    "\n",
    "thermo_base"
   ]
  },
  {
   "cell_type": "code",
   "execution_count": 557,
   "id": "1b4bea5f-96c0-4a47-9107-bc9ef7a59ec8",
   "metadata": {},
   "outputs": [],
   "source": [
    "\n",
    "\n",
    "snap_join(20, 50)"
   ]
  },
  {
   "cell_type": "code",
   "execution_count": null,
   "id": "a2ce5a0b-98d3-441b-9da4-fe9673f1d3b4",
   "metadata": {},
   "outputs": [],
   "source": []
  },
  {
   "cell_type": "code",
   "execution_count": 558,
   "id": "2703d287-6591-417b-9031-f9d87c21525c",
   "metadata": {},
   "outputs": [],
   "source": [
    "cq.exporters.export(container(10, 15, 5), 'container.stl')\n"
   ]
  },
  {
   "cell_type": "code",
   "execution_count": null,
   "id": "3292c48c-896b-4e2e-91cf-dc4665c5ecbe",
   "metadata": {},
   "outputs": [],
   "source": [
    "relay_lid = (\n",
    "    lid(70, 70, 40, with_snap=False)\n",
    "    .faces(\"<Z\")\n",
    "    .workplane()\n",
    "    .text(\"Pico\\nTherm\", 15, -1)\n",
    ")\n",
    "cq.exporters.export(relay_lid, 'relay_lid.stl')\n",
    "relay_lid"
   ]
  },
  {
   "cell_type": "markdown",
   "id": "a8517ae8-d870-4e25-ba57-ab2b40b1998f",
   "metadata": {},
   "source": [
    "# Box with buttons"
   ]
  },
  {
   "cell_type": "code",
   "execution_count": null,
   "id": "6d24b1df-485b-4a1a-80f1-b0067c538756",
   "metadata": {},
   "outputs": [],
   "source": [
    "def add_button_holder(box, x, y):\n",
    "    # Fixed size 7x7mm with 3.8mm hole\n",
    "    dim = 7\n",
    "    dia = 3.8\n",
    "    height = 5\n",
    "    \n",
    "    holder = mounting_box(dim, dim, height, frac=10)\n",
    "    \n",
    "    box = box.faces(\">Z\").center(x, y).hole(dia).center(-x, -y)\n",
    "    box = box.union(holder.translate((x, y, 0)))\n",
    "    \n",
    "    return box\n",
    "\n",
    "def add_lrd_holder(box, x, y):\n",
    "    # Fixed size 5.25mm holder with 4mm hole\n",
    "    holder = 5.25\n",
    "    dia = 4\n",
    "    \n",
    "    holder = transistor_holder(holder, height=4)\n",
    "    \n",
    "    box = box.faces(\">Z\").center(x, y).hole(dia).center(-x, -y)\n",
    "    box = box.union(holder.translate((x, y, 0)))\n",
    "    \n",
    "    return box\n",
    "\n",
    "    \n",
    "\n",
    "\n",
    "# button_holder = mounting_box(7, 7, 5, frac=99)\n",
    "\n",
    "pico_holder = mounting_box(53, 23, 5)\n",
    "pins = pin_stands(47, 11.4, 2, .8)\n",
    "\n",
    "\n",
    "box = container(60, 60, 15, wall_thickness=2)\n",
    "\n",
    "but_x, but_y = -15, -15\n",
    "box = add_button_holder(box, but_x+0, but_y+0)\n",
    "box = add_button_holder(box, but_x+10, but_y+0)\n",
    "box = add_button_holder(box, but_x+-10, but_y+0)\n",
    "box = add_button_holder(box, but_x+0, but_y+-10)\n",
    "box = add_button_holder(box, but_x+0, but_y+10)\n",
    "\n",
    "box = add_lrd_holder(box, -but_x, but_y)\n",
    "\n",
    "box = box.faces(\">X\").workplane().center(15, 0).rect(20, 10).cutBlind(\"next\")\n",
    "box = box.faces(\">X\").workplane(centerOption=\"CenterOfBoundBox\").center(-15, 0).circle(5).cutBlind(\"next\")\n",
    "\n",
    "button_holder = (\n",
    "    cq.Assembly(name=\"case\")\n",
    "    .add(box, name=\"box\")\n",
    "    .add(pico_holder, name=\"pico\", loc=cq.Location(cq.Vector(-3, 15, 0)))\n",
    "    .add(pins, name=\"pins\", loc=cq.Location(cq.Vector(-3, 15, 0)))\n",
    "\n",
    ")\n",
    "\n",
    "button_holder = button_holder.toCompound()\n",
    "\n",
    "cq.exporters.export(button_holder, 'julian_light_holder.stl')\n",
    "\n",
    "button_holder"
   ]
  },
  {
   "cell_type": "code",
   "execution_count": null,
   "id": "b4be464d-8506-4a1d-9624-b37f91f9a523",
   "metadata": {},
   "outputs": [
    {
     "name": "stdout",
     "output_type": "stream",
     "text": [
      "100% ⋮————————————————————————————————————————————————————————————⋮ (2/2)  0.00s\n"
     ]
    }
   ],
   "source": [
    "box.faces(\">X\").translate((0,15, -5)).rect(20, 20, forConstruction=True)"
   ]
  },
  {
   "cell_type": "code",
   "execution_count": 218,
   "id": "8f5f22c7-5357-40c3-9cc9-33e296b0730b",
   "metadata": {},
   "outputs": [],
   "source": [
    "my_lid = (\n",
    "    lid(60, 60, 10)\n",
    ")\n",
    "cq.exporters.export(my_lid, 'my_lid.stl')\n",
    "my_lid"
   ]
  },
  {
   "cell_type": "code",
   "execution_count": null,
   "id": "0bd50019-8067-4df0-8f6a-df7f1f0d2fcc",
   "metadata": {},
   "outputs": [],
   "source": []
  }
 ],
 "metadata": {
  "kernelspec": {
   "display_name": "Python 3 (ipykernel)",
   "language": "python",
   "name": "python3"
  },
  "language_info": {
   "codemirror_mode": {
    "name": "ipython",
    "version": 3
   },
   "file_extension": ".py",
   "mimetype": "text/x-python",
   "name": "python",
   "nbconvert_exporter": "python",
   "pygments_lexer": "ipython3",
   "version": "3.10.8"
  }
 },
 "nbformat": 4,
 "nbformat_minor": 5
}
