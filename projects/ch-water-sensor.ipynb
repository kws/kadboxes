{
 "cells": [
  {
   "cell_type": "code",
   "execution_count": 1,
   "id": "e21faf80-f77f-40c8-b178-ec416128173c",
   "metadata": {},
   "outputs": [
    {
     "name": "stdout",
     "output_type": "stream",
     "text": [
      "Overwriting auto display for cadquery Workplane and Shape\n",
      "\n",
      "Enabling jupyter_cadquery replay\n"
     ]
    }
   ],
   "source": [
    "%load_ext autoreload\n",
    "%autoreload 2\n",
    "from kadboxes.util import enable_viewer\n",
    "enable_viewer(\"CH Water Sensor\")"
   ]
  },
  {
   "cell_type": "code",
   "execution_count": 2,
   "id": "70ed73e6-ba3e-4deb-9891-a861365bad97",
   "metadata": {},
   "outputs": [],
   "source": [
    "import cadquery as cq\n",
    "import numpy as np\n",
    "from cq_warehouse.thread import IsoThread\n",
    "from cq_warehouse.fastener import SetScrew\n",
    "import cq_warehouse.extensions\n"
   ]
  },
  {
   "cell_type": "code",
   "execution_count": 3,
   "id": "eefb881a-6a5e-4768-8b1c-7d9237e16166",
   "metadata": {},
   "outputs": [],
   "source": [
    "sphere_radius = 20\n",
    "cylinder_radius = 11\n",
    "cylinder_height = sphere_radius*2.1  # Make sure the height is enough to cut through the sphere\n",
    "\n",
    "# Create a sphere\n",
    "# sphere = cq.Solid.makeSphere(sphere_radius)\n",
    "ellipse = cq.Workplane(\"XZ\").lineTo(sphere_radius, 0).ellipseArc(sphere_radius, sphere_radius/2, angle1=0, angle2=90).close()\n",
    "ellipse = ellipse.revolve(360, axisStart=(0, 0, 0), axisEnd=(0, 1, 0))\n",
    "ellipse2 = ellipse.rotate((0,0,0), (0,1,0), 180)\n",
    "ellipse = ellipse.union(ellipse2)\n",
    "ellipse"
   ]
  },
  {
   "cell_type": "code",
   "execution_count": 4,
   "id": "b98b36fa-0587-4e68-98b1-8ef8aa303abe",
   "metadata": {},
   "outputs": [],
   "source": [
    "# Create the central hole for the pipe\n",
    "cylinder = cq.Workplane(\"XY\").cylinder(cylinder_height, cylinder_radius)\n",
    "cylinder = cylinder.translate((0, 0, sphere_radius - cylinder_height / 2))\n",
    "result = ellipse.cut(cylinder)\n",
    "result"
   ]
  },
  {
   "cell_type": "code",
   "execution_count": 5,
   "id": "4039f3de-0ea4-4b46-afab-5c5430b1a71c",
   "metadata": {},
   "outputs": [],
   "source": [
    "# Create the hole for the sensor\n",
    "cylinder = cq.Workplane(\"XZ\").cylinder(cylinder_radius*1.3, 2.5).translate((0,cylinder_radius*1.5,0))\n",
    "result = result.cut(cylinder)\n",
    "result"
   ]
  },
  {
   "cell_type": "code",
   "execution_count": 6,
   "id": "657adfd5-65a5-49c4-a8ac-7b045aedc19f",
   "metadata": {},
   "outputs": [],
   "source": [
    "# Screw holes (M4 = 2mm radius)\n",
    "offset = cylinder_radius + ((sphere_radius - cylinder_radius) / 2)\n",
    "\n",
    "cylinder = cq.Workplane(\"XZ\").cylinder(40, 2)\n",
    "result = result.cut(cylinder.translate((offset,0,0)))\n",
    "result = result.cut(cylinder.translate((-offset,0,0)))\n",
    "result"
   ]
  },
  {
   "cell_type": "code",
   "execution_count": 7,
   "id": "0c236ad6-9735-4c21-b27f-a512cf8d87de",
   "metadata": {},
   "outputs": [],
   "source": [
    "# Add threads\n",
    "thread = IsoThread(4, 0.7, 10, external=False, end_finishes=(\"fade\", \"fade\"))\n",
    "thread = thread.rotate((0,0,0), (1,0,0), 90).translate((0,5,0))\n",
    "result = result.union(thread.translate((offset,0,0)))\n",
    "result = result.union(thread.translate((-offset,0,0)))\n",
    "result"
   ]
  },
  {
   "cell_type": "code",
   "execution_count": 8,
   "id": "69b95b43-fbc6-4bb0-aa27-f5df14337efb",
   "metadata": {},
   "outputs": [],
   "source": [
    "screw_head = 4\n",
    "clipping = 17\n",
    "screw_head_cylinder = cq.Workplane(\"XZ\").cylinder(20, screw_head)\n",
    "result = result.cut(screw_head_cylinder.translate((offset,-clipping ,0)))\n",
    "result = result.cut(screw_head_cylinder.translate((-offset,-clipping ,0)))\n",
    "result = result.cut(screw_head_cylinder.translate((offset,clipping ,0)))\n",
    "result = result.cut(screw_head_cylinder.translate((-offset,clipping ,0)))\n",
    "result"
   ]
  },
  {
   "cell_type": "code",
   "execution_count": 9,
   "id": "83c4839c-fcb9-44ed-a4ba-95276630d576",
   "metadata": {},
   "outputs": [
    {
     "name": "stdout",
     "output_type": "stream",
     "text": [
      "100% ⋮————————————————————————————————————————————————————————————⋮ (2/2)  0.70s\n"
     ]
    }
   ],
   "source": [
    "# split = result.rotate((0,0,0), (1,0,0), 90)\n",
    "split = result\n",
    "split = split.split(keepTop=True, keepBottom=True)\n",
    "# split = split.rotate((0,0,0), (1,0,0), -90)\n",
    "split"
   ]
  },
  {
   "cell_type": "code",
   "execution_count": 11,
   "id": "68820b32-e664-46b2-b76f-615eaf9858e7",
   "metadata": {},
   "outputs": [],
   "source": [
    "cq.exporters.export(split.all()[1], 'ch-water-sensor.stl')\n",
    "cq.exporters.export(split.all()[0], 'ch-water-fix.stl')\n"
   ]
  },
  {
   "cell_type": "code",
   "execution_count": null,
   "id": "b497efa9-3fa6-45fe-9cef-fbba6ba9e24f",
   "metadata": {},
   "outputs": [],
   "source": []
  }
 ],
 "metadata": {
  "kernelspec": {
   "display_name": "Python 3 (ipykernel)",
   "language": "python",
   "name": "python3"
  },
  "language_info": {
   "codemirror_mode": {
    "name": "ipython",
    "version": 3
   },
   "file_extension": ".py",
   "mimetype": "text/x-python",
   "name": "python",
   "nbconvert_exporter": "python",
   "pygments_lexer": "ipython3",
   "version": "3.10.8"
  }
 },
 "nbformat": 4,
 "nbformat_minor": 5
}
