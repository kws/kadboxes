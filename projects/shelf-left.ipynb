{
 "cells": [
  {
   "cell_type": "code",
   "execution_count": 1,
   "id": "4b87eecc-8ce7-4c66-9354-58c7a45555cf",
   "metadata": {},
   "outputs": [
    {
     "name": "stdout",
     "output_type": "stream",
     "text": [
      "Overwriting auto display for cadquery Workplane and Shape\n",
      "\n",
      "Enabling jupyter_cadquery replay\n"
     ]
    }
   ],
   "source": [
    "%load_ext autoreload\n",
    "%autoreload 2\n",
    "from kadboxes.util import enable_viewer\n",
    "enable_viewer(\"Shelf-Left\")"
   ]
  },
  {
   "cell_type": "code",
   "execution_count": 2,
   "id": "4e2cdc81-9353-46c1-8cd6-bc1adb7eedbe",
   "metadata": {},
   "outputs": [],
   "source": [
    "import cadquery as cq\n"
   ]
  },
  {
   "cell_type": "code",
   "execution_count": 62,
   "id": "0879de1c-0b67-4b21-ad53-c8c8f25f640e",
   "metadata": {},
   "outputs": [
    {
     "name": "stdout",
     "output_type": "stream",
     "text": [
      "100% ⋮————————————————————————————————————————————————————————————⋮ (2/2)  0.00s\n"
     ]
    }
   ],
   "source": [
    "box = cq.Workplane(\"XY\").rect(100, 25).extrude(2)\n",
    "box"
   ]
  },
  {
   "cell_type": "code",
   "execution_count": 87,
   "id": "f7eadc58-01a0-4757-95b8-5d45fd24fad5",
   "metadata": {},
   "outputs": [],
   "source": [
    "vertices = [(0, 0), (25, -25), (25, 75), (0, 75)]\n",
    "\n",
    "box = cq.Workplane(\"XY\").polyline(vertices).close().extrude(5)\n",
    "box"
   ]
  },
  {
   "cell_type": "code",
   "execution_count": 96,
   "id": "8d4373b4-950e-4e83-bd1b-b64b877de8cf",
   "metadata": {},
   "outputs": [],
   "source": [
    "big_box = cq.Workplane(\"XY\").polyline(vertices).close().extrude(1).val().scale(1.2)\n",
    "big_box = cq.Workplane(\"XY\").add(big_box).translate((0,0,4))\n",
    "combined = box.union(big_box)\n",
    "combined"
   ]
  },
  {
   "cell_type": "code",
   "execution_count": 98,
   "id": "36df425e-16d3-47b9-a678-f35ffa4933fc",
   "metadata": {},
   "outputs": [],
   "source": [
    "# Define the center, radius, start angle, and end angle for the arc\n",
    "cable = cq.Workplane(\"XY\").ellipse(25, 25).extrude(10).translate((0,25,0))\n",
    "final = combined.cut(cable)\n",
    "final"
   ]
  },
  {
   "cell_type": "code",
   "execution_count": 145,
   "id": "5a99a846-da51-49b2-96b5-d59f7b1f32e3",
   "metadata": {},
   "outputs": [
    {
     "name": "stdout",
     "output_type": "stream",
     "text": [
      "100% ⋮————————————————————————————————————————————————————————————⋮ (2/2)  0.01s\n"
     ]
    }
   ],
   "source": [
    "mask = (\n",
    "    cq.Workplane(\"XY\")\n",
    "    .transformed(offset=cq.Vector((0,0,0)), rotate=cq.Vector(0, 0, 45))\n",
    "    .move(0, -20)\n",
    "    .rect(10,50)\n",
    "    .extrude(6)\n",
    ")\n",
    "assemby = (\n",
    "    cq.Assembly(\"shelf-left\")\n",
    "    .add(final)\n",
    "    .add(mask, color=cq.Color(\"blue\"))\n",
    ")\n",
    "assemby"
   ]
  },
  {
   "cell_type": "code",
   "execution_count": 146,
   "id": "5c89ef9a-fa06-4756-8403-c28e0dbedbb3",
   "metadata": {},
   "outputs": [],
   "source": [
    "export = final.cut(mask)\n",
    "export\n",
    "## cq.exporters.export(final, 'shelf-left.stl')\n"
   ]
  },
  {
   "cell_type": "code",
   "execution_count": null,
   "id": "298961f7-cd91-477f-84bf-08900adf7bae",
   "metadata": {},
   "outputs": [],
   "source": []
  }
 ],
 "metadata": {
  "kernelspec": {
   "display_name": "Python 3 (ipykernel)",
   "language": "python",
   "name": "python3"
  },
  "language_info": {
   "codemirror_mode": {
    "name": "ipython",
    "version": 3
   },
   "file_extension": ".py",
   "mimetype": "text/x-python",
   "name": "python",
   "nbconvert_exporter": "python",
   "pygments_lexer": "ipython3",
   "version": "3.10.8"
  }
 },
 "nbformat": 4,
 "nbformat_minor": 5
}
