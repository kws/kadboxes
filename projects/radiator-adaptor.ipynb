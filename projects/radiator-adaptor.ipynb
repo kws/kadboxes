{
 "cells": [
  {
   "cell_type": "markdown",
   "id": "64ffec6d-fa69-44a7-9000-f304cc3f1cac",
   "metadata": {},
   "source": [
    "# Radiator Adaptor for radiator thermostatic valves\n",
    "\n",
    "Several of the radiators have this type of valve:\n",
    "\n",
    "https://www.haustechnikdialog.de/Forum/t/161929/Kennt-jemand-diesen-Thermostatkopf-\n",
    "\n",
    "They use a non-standard M34x1.5 fitting. \n"
   ]
  },
  {
   "cell_type": "code",
   "execution_count": 1,
   "id": "038b27d7-c238-4943-bffd-52c106d8a24b",
   "metadata": {},
   "outputs": [
    {
     "name": "stdout",
     "output_type": "stream",
     "text": [
      "Overwriting auto display for cadquery Workplane and Shape\n",
      "\n",
      "Enabling jupyter_cadquery replay\n"
     ]
    }
   ],
   "source": [
    "%load_ext autoreload\n",
    "%autoreload 2\n",
    "from kadboxes.util import enable_viewer\n",
    "enable_viewer(\"Radiator\")"
   ]
  },
  {
   "cell_type": "code",
   "execution_count": 2,
   "id": "193bdebe-30a6-478b-95ef-0b923b757b89",
   "metadata": {},
   "outputs": [],
   "source": [
    "import cadquery as cq\n",
    "from cq_warehouse.thread import IsoThread\n"
   ]
  },
  {
   "cell_type": "code",
   "execution_count": null,
   "id": "23531a98-1486-4609-8279-e4a69d40c42b",
   "metadata": {},
   "outputs": [],
   "source": []
  },
  {
   "cell_type": "code",
   "execution_count": 3,
   "id": "2f9a97b3-3803-4c81-875a-103785f17fd9",
   "metadata": {
    "tags": []
   },
   "outputs": [],
   "source": [
    "outer_diameter = 50\n",
    "inner_diameter = 34\n",
    "\n",
    "length = 10\n",
    "\n",
    "thread_depth = 10\n",
    "\n",
    "f_thread_size = 34.5 # Should be 34 but that is very tight\n",
    "f_thread_depth = 6\n",
    "\n",
    "outer_cylinder = cq.Workplane(\"XY\").circle(outer_diameter / 2).extrude(length)\n",
    "inner_cylinder = cq.Workplane(\"XY\").circle(inner_diameter / 2).extrude(thread_depth)\n",
    "\n",
    "hollow_cylinder = outer_cylinder.cut(inner_cylinder)\n",
    "\n",
    "thread = IsoThread(f_thread_size, 1.5, f_thread_depth, external=False, end_finishes=(\"fade\", \"fade\"))\n",
    "threaded_cylinder = hollow_cylinder.union(thread)\n",
    "threaded_cylinder\n"
   ]
  },
  {
   "cell_type": "code",
   "execution_count": 4,
   "id": "dde08952-e207-4156-bbfd-d3e5f33c3494",
   "metadata": {},
   "outputs": [],
   "source": [
    "f_thread_size = 30\n",
    "f_thread_depth = 6\n",
    "inner_outer_diameter = 21\n",
    "inner_diameter = 17\n",
    "\n",
    "thread = IsoThread(f_thread_size, 1.5, f_thread_depth, external=True, end_finishes=(\"fade\", \"fade\"))\n",
    "outer_cylinder = cq.Workplane(\"XY\").circle(thread.min_radius).extrude(f_thread_depth)\n",
    "screw_cylinder = outer_cylinder.union(thread)\n",
    "\n",
    "screw_cylinder = screw_cylinder.faces(\">Z\").circle(inner_outer_diameter / 2).extrude(4)\n",
    "screw_cylinder = screw_cylinder.faces(\"<Z\").circle(outer_diameter/2).extrude(-2)\n",
    "inner_cylinder = cq.Workplane(\"XY\").circle(inner_diameter / 2).extrude(30).translate((0,0,-10))\n",
    "screw_cylinder = screw_cylinder.cut(inner_cylinder)\n",
    "\n",
    "screw_cylinder = screw_cylinder.translate((0,0,10))\n",
    "\n",
    "screw_cylinder"
   ]
  },
  {
   "cell_type": "code",
   "execution_count": 5,
   "id": "68858f45-ae02-4855-9f3b-47d03da1ef28",
   "metadata": {},
   "outputs": [],
   "source": [
    "inner_fill = cq.Workplane(\"XY\").circle(outer_diameter/2).extrude(5).translate((0,0,5))\n",
    "inner_fill"
   ]
  },
  {
   "cell_type": "code",
   "execution_count": 6,
   "id": "97b30fa6-8af0-424c-96fe-ef1f9846c29a",
   "metadata": {},
   "outputs": [],
   "source": [
    "# cq.Assembly().add(threaded_cylinder).add(screw_cylinder)\n",
    "adaptor = threaded_cylinder.union(screw_cylinder).union(inner_fill)\n",
    "\n",
    "# Cut inner cavity\n",
    "central_hole = 25\n",
    "outer_cylinder = cq.Workplane(\"XY\").circle(central_hole/2).extrude(14)\n",
    "\n",
    "adaptor=adaptor.cut(outer_cylinder)\n",
    "adaptor"
   ]
  },
  {
   "cell_type": "code",
   "execution_count": 7,
   "id": "272f4e96-67f8-4bfb-bf98-c365850eb9d6",
   "metadata": {},
   "outputs": [],
   "source": [
    "# We try to add some holes to see if that strengthens the construction\n",
    "\n",
    "hole_count = 18\n",
    "for rot in range(hole_count):\n",
    "    angle = rot * 360/hole_count\n",
    "    wp = cq.Workplane(\"XY\").transformed(rotate=(0, 0, angle)).center(42/2,0)\n",
    "    wp = wp.circle(1).extrude(100)\n",
    "    adaptor = adaptor.cut(wp)\n",
    "adaptor"
   ]
  },
  {
   "cell_type": "code",
   "execution_count": 8,
   "id": "6db7f822-1f03-4fdf-9c38-906140599f9a",
   "metadata": {},
   "outputs": [],
   "source": [
    "cq.exporters.export(adaptor, 'radiator-adaptor.stl')\n",
    "# cq.exporters.export(screw_cylinder, 'screw_cylinder.stl')\n"
   ]
  },
  {
   "cell_type": "markdown",
   "id": "715a5c16-9d59-4c33-a42c-50c3109edc0a",
   "metadata": {},
   "source": [
    "# The next part is the cylinder adaptor"
   ]
  },
  {
   "cell_type": "code",
   "execution_count": 9,
   "id": "2aaffd94-f4a9-4ca3-b8de-b6140e3f713d",
   "metadata": {},
   "outputs": [],
   "source": [
    "central_pin = cq.Workplane(\"XY\").circle((inner_diameter-1)/2).extrude(18)\n",
    "cq.exporters.export(central_pin, 'radiator-adaptor-central_pin.stl')\n",
    "central_pin"
   ]
  },
  {
   "cell_type": "code",
   "execution_count": 10,
   "id": "3a8b7edc-b44e-4f47-8eb2-7cedd216ca2b",
   "metadata": {},
   "outputs": [
    {
     "name": "stdout",
     "output_type": "stream",
     "text": [
      "100% ⋮————————————————————————————————————————————————————————————⋮ (2/2)  0.01s\n"
     ]
    }
   ],
   "source": [
    "assembly = cq.Assembly(\"pin-and-hole\") \\\n",
    "  .add(adaptor) \\\n",
    "  .add(central_pin, color=cq.Color(\"red\"), loc=cq.Location(cq.Vector(0, 0, 13))) \\\n",
    "\n",
    "assembly"
   ]
  },
  {
   "cell_type": "code",
   "execution_count": null,
   "id": "c58762c8-c80a-4de5-972c-23ebd0890848",
   "metadata": {},
   "outputs": [],
   "source": []
  },
  {
   "cell_type": "code",
   "execution_count": null,
   "id": "98616623-39c4-455a-9575-352f27b76663",
   "metadata": {},
   "outputs": [],
   "source": []
  }
 ],
 "metadata": {
  "kernelspec": {
   "display_name": "Python 3 (ipykernel)",
   "language": "python",
   "name": "python3"
  },
  "language_info": {
   "codemirror_mode": {
    "name": "ipython",
    "version": 3
   },
   "file_extension": ".py",
   "mimetype": "text/x-python",
   "name": "python",
   "nbconvert_exporter": "python",
   "pygments_lexer": "ipython3",
   "version": "3.10.8"
  }
 },
 "nbformat": 4,
 "nbformat_minor": 5
}
